{
 "cells": [
  {
   "cell_type": "code",
   "execution_count": null,
   "id": "c7f30da1-da30-4e4f-8138-b9647c59800f",
   "metadata": {},
   "outputs": [],
   "source": []
  }
 ],
 "metadata": {
  "kernelspec": {
   "display_name": "",
   "name": ""
  },
  "language_info": {
   "name": ""
  }
 },
 "nbformat": 4,
 "nbformat_minor": 5
}
